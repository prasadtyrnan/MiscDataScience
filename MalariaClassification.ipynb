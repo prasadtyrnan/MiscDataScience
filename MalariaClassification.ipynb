{
 "cells": [
  {
   "cell_type": "code",
   "execution_count": 4,
   "metadata": {},
   "outputs": [],
   "source": [
    "\"\"\"\n",
    "I start the problem by getting all of the slide images from my folders and saving them to arrays depending on\n",
    "whether or not the parasite is present in the cell\n",
    "\"\"\"\n",
    "\n",
    "import os\n",
    "\n",
    "def load_file_locations(folder):\n",
    "    locs = []\n",
    "    for filename in os.listdir(folder):\n",
    "        locs.append(filename)\n",
    "    return locs\n",
    "\n",
    "infected_folder = os.getcwd() + \"/MalariaSlides/Infected\"\n",
    "uninfected_folder = os.getcwd() + \"/MalariaSlides/Uninfected\"\n",
    "\n",
    "infected_slides = load_file_locations(infected_folder)\n",
    "uninfected_slides = load_file_locations(uninfected_folder)"
   ]
  },
  {
   "cell_type": "code",
   "execution_count": 126,
   "metadata": {},
   "outputs": [],
   "source": [
    "\"\"\"\n",
    "From here I am rescaling the images and saving the intensity of the blue color in each of the pixels as my X values\n",
    "and marking the presence of the parasite with a 1 in the y array\n",
    "\"\"\"\n",
    "\n",
    "from PIL import Image\n",
    "import numpy as np\n",
    "\n",
    "X = []\n",
    "y = []\n",
    "\n",
    "for loc in infected_slides:\n",
    "    image = Image.open(infected_folder + \"/\" + loc).convert('LA').resize((64,64), Image.ANTIALIAS)\n",
    "    X.append(np.asarray(image)[:,:,1].flatten())\n",
    "    y.append(1)\n",
    "for loc in uninfected_slides:\n",
    "    image = Image.open(uninfected_folder + \"/\" + loc).resize((64,64), Image.ANTIALIAS)\n",
    "    X.append(np.asarray(image)[:,:,1].flatten())\n",
    "    y.append(0)"
   ]
  },
  {
   "cell_type": "code",
   "execution_count": 127,
   "metadata": {},
   "outputs": [],
   "source": [
    "\"\"\"\n",
    "Now I standardize the scaling of the features, so each value will indicate how the intensity of the color\n",
    "compares to corresponding pixels in other slides. Then I split the data into training and testing sets.\n",
    "\"\"\"\n",
    "\n",
    "from sklearn.model_selection import train_test_split\n",
    "from sklearn.pipeline import Pipeline\n",
    "from sklearn.preprocessing import StandardScaler\n",
    "\n",
    "pipeline = Pipeline([(\"std_scaler\", StandardScaler())])\n",
    "X = pipeline.fit_transform(X)\n",
    "\n",
    "X_train, X_test, y_train, y_test = train_test_split(X, y, test_size=.2, random_state = 12)"
   ]
  },
  {
   "cell_type": "code",
   "execution_count": 151,
   "metadata": {},
   "outputs": [],
   "source": [
    "\"\"\"\n",
    "In order to have some kind of visualization for the classifiers that I'll be testing, I need to do some dimensionality\n",
    "reduction on the X components, so I'm using a PCA to accomplish that and then generating a scatter plot and using the\n",
    "difference between the actual and predicted value (1, -1, or 0) to see what kinds of error we're getting and if it\n",
    "follows any patterns\n",
    "\"\"\"\n",
    "\n",
    "\n",
    "from sklearn.decomposition import PCA\n",
    "import matplotlib.pyplot as plt\n",
    "\n",
    "pca = PCA(n_components = 2)\n",
    "X_pca = pca.fit_transform(X)\n",
    "\n",
    "def display_visual(classifier):\n",
    "    color_marker = y - clf.predict(X)\n",
    "    X_dim = [[],[],[]]\n",
    "    Y_dim = [[],[],[]]\n",
    "    for i in range(len(color_marker)):\n",
    "        if(color_marker[i] == 1):\n",
    "            X_dim[0].append(X_pca[i][0])\n",
    "            Y_dim[0].append(X_pca[i][1])\n",
    "        elif(color_marker[i] == 0):\n",
    "            X_dim[1].append(X_pca[i][0])\n",
    "            Y_dim[1].append(X_pca[i][1])\n",
    "        else:\n",
    "            X_dim[2].append(X_pca[i][0])\n",
    "            Y_dim[2].append(X_pca[i][1])\n",
    "    plt.scatter(X_dim[0], Y_dim[0], label=\"False Negative\", alpha = .2)\n",
    "    plt.scatter(X_dim[1], Y_dim[1], label=\"Accurate Diagnosis\", alpha = .2)\n",
    "    plt.scatter(X_dim[2], Y_dim[2], label=\"False Positive\", alpha = .2)\n",
    "    plt.legend()\n",
    "    plt.show()"
   ]
  },
  {
   "cell_type": "code",
   "execution_count": 136,
   "metadata": {},
   "outputs": [
    {
     "data": {
      "text/plain": [
       "MLPClassifier(activation='relu', alpha=0.0001, batch_size='auto', beta_1=0.9,\n",
       "              beta_2=0.999, early_stopping=False, epsilon=1e-08,\n",
       "              hidden_layer_sizes=(100,), learning_rate='constant',\n",
       "              learning_rate_init=0.001, max_iter=1000, momentum=0.9,\n",
       "              n_iter_no_change=10, nesterovs_momentum=True, power_t=0.5,\n",
       "              random_state=12, shuffle=True, solver='adam', tol=0.0001,\n",
       "              validation_fraction=0.1, verbose=False, warm_start=False)"
      ]
     },
     "execution_count": 136,
     "metadata": {},
     "output_type": "execute_result"
    }
   ],
   "source": [
    "\"\"\"\n",
    "I'm just going to pass it through a default neural network classifier to get a basic idea of what's going on\n",
    "\"\"\"\n",
    "\n",
    "from sklearn.neural_network import MLPClassifier\n",
    "\n",
    "clf = MLPClassifier(random_state = 12, max_iter=1000)\n",
    "clf.fit(X_train, y_train)"
   ]
  },
  {
   "cell_type": "code",
   "execution_count": 152,
   "metadata": {},
   "outputs": [
    {
     "data": {
      "image/png": "[encoded data removed]",
      "text/plain": [
       "<Figure size 432x288 with 1 Axes>"
      ]
     },
     "metadata": {
      "needs_background": "light"
     },
     "output_type": "display_data"
    },
    {
     "data": {
      "text/plain": [
       "1.0"
      ]
     },
     "execution_count": 152,
     "metadata": {},
     "output_type": "execute_result"
    }
   ],
   "source": [
    "display_visual(clf)\n",
    "clf.score(X_test, y_test)"
   ]
  },
  {
   "cell_type": "markdown",
   "metadata": {},
   "source": [
    "Uh...hmm<br/>So, for context: the work is no longer visible here, but originally when I had done this I got ~72% accuracy.\n",
    "I figured that was fine for a first pass, and went on to do a grid search on different SVMs to try and find a good\n",
    "model that way. It was taking a really long time to run the grid search, so I figured I'd try and eliminate some\n",
    "variables by grayscaling the images. I had assumed this would, if anything, reduce my accuracy because I'd made an\n",
    "earlier attempt to use only the blue part of the rgb values and got slightly reduced accuracy. Anyways, after some\n",
    "fiddling around I've discovered a few things that I can show off with some visuals."
   ]
  },
  {
   "cell_type": "code",
   "execution_count": 158,
   "metadata": {},
   "outputs": [
    {
     "data": {
      "image/png": "[encoded data removed]",
      "text/plain": [
       "<Figure size 432x288 with 1 Axes>"
      ]
     },
     "metadata": {
      "needs_background": "light"
     },
     "output_type": "display_data"
    }
   ],
   "source": [
    "\"\"\"\n",
    "Here, I'm making a quick and dirty scatter plot that shows the distribution of the different cases based on the PCA\n",
    "transformed X\n",
    "\"\"\"\n",
    "\n",
    "X_dim = [[],[]]\n",
    "Y_dim = [[],[]]\n",
    "for i in range(len(y)):\n",
    "    if(y[i] == 1):\n",
    "        X_dim[0].append(X_pca[i][0])\n",
    "        Y_dim[0].append(X_pca[i][1])\n",
    "    else:\n",
    "        X_dim[1].append(X_pca[i][0])\n",
    "        Y_dim[1].append(X_pca[i][1])\n",
    "plt.scatter(X_dim[0], Y_dim[0], label=\"Infected\", alpha=.2)\n",
    "plt.scatter(X_dim[1], Y_dim[1], label=\"Uninfected\", alpha=.2)\n",
    "plt.legend()\n",
    "plt.show()"
   ]
  },
  {
   "cell_type": "code",
   "execution_count": 159,
   "metadata": {},
   "outputs": [
    {
     "data": {
      "text/plain": [
       "311"
      ]
     },
     "execution_count": 159,
     "metadata": {},
     "output_type": "execute_result"
    }
   ],
   "source": [
    "\"\"\"\n",
    "So, this is alarming in its own different way, because at first glance, it looks as though there is somehow only one\n",
    "case in which the patient is infected with malaria, but...\n",
    "\"\"\"\n",
    "\n",
    "len(X_dim[0])"
   ]
  },
  {
   "cell_type": "code",
   "execution_count": 167,
   "metadata": {},
   "outputs": [
    {
     "data": {
      "image/png": "[encoded data removed]",
      "text/plain": [
       "<Figure size 432x288 with 1 Axes>"
      ]
     },
     "metadata": {
      "needs_background": "light"
     },
     "output_type": "display_data"
    }
   ],
   "source": [
    "\"\"\"\n",
    "That shows that there are indeed, 311 positive cases. They are just stacked so closely on top of each other that it\n",
    "is impossible to tell where one ends and the next begins. What is incredibly interesting about this is that the PCA\n",
    "isn't even fitted using the y values. It found, completely unprompted, a pattern between the distribution of color in\n",
    "the infected cells. There is however, leakage into the PCA model, so I'll make another one using only training data\n",
    "and see if the situation remains the same\n",
    "\"\"\"\n",
    "\n",
    "pca_new = PCA(n_components = 2)\n",
    "pca_new.fit(X_train)\n",
    "X_pca_new = pca_new.transform(X)\n",
    "\n",
    "\n",
    "X_dim = [[],[]]\n",
    "Y_dim = [[],[]]\n",
    "for i in range(len(y)):\n",
    "    if(y[i] == 1):\n",
    "        X_dim[0].append(X_pca_new[i][0])\n",
    "        Y_dim[0].append(X_pca_new[i][1])\n",
    "    else:\n",
    "        X_dim[1].append(X_pca_new[i][0])\n",
    "        Y_dim[1].append(X_pca_new[i][1])\n",
    "plt.scatter(X_dim[0], Y_dim[0], label=\"Infected\", alpha=.2)\n",
    "plt.scatter(X_dim[1], Y_dim[1], label=\"Uninfected\", alpha=.2)\n",
    "plt.legend()\n",
    "plt.show()"
   ]
  },
  {
   "cell_type": "code",
   "execution_count": 165,
   "metadata": {},
   "outputs": [
    {
     "data": {
      "text/plain": [
       "array([1., 1., 1., 1., 1.])"
      ]
     },
     "execution_count": 165,
     "metadata": {},
     "output_type": "execute_result"
    }
   ],
   "source": [
    "\"\"\"\n",
    "And, the new scatterplot looks basically the same as the last one. So, in a wild twist of fate, it's pretty clear to\n",
    "see that using just the pca and something as simple as a linear classifier, you could easily produce a model which,\n",
    "for the data provided, is 100% accurate. I think this is possible because the classification problem here is an really\n",
    "simple one. The stain makes it so that the amoeba shows up in the cell much brighter than anything else, so even when\n",
    "you can't see the color, you only need to look for some blob of a different shade than the rest of the cell. For my\n",
    "own peace of mind, I'm still going to run a cross validation on it in order to double check that there isn't any\n",
    "leakage. Past that, the only way that I can imagine that there would be leakage is if there are duplicate images and\n",
    "somehow the ended up in both the training and testing sets. Cross validation should help to mitigate that concern, but\n",
    "there is still a low probability.\n",
    "\"\"\"\n",
    "\n",
    "from sklearn.model_selection import cross_val_score\n",
    "scores = cross_val_score(clf, X, y, cv=5)\n",
    "scores"
   ]
  },
  {
   "cell_type": "markdown",
   "metadata": {},
   "source": [
    "While this is a weird thing to complain about, I kind of wish there was some error in the model so that I could \n",
    "demonstrate optimization for coverage of positive cases (because not being diagnosed with malaria when you have it is\n",
    "pretty obviously worse than being diagnosed with it when you don't). Oh, well. The dataset that I used will be in the repository with this notebook, but it can also be found on kaggle, although that dataset is pre-split into training and testing sets."
   ]
  },
  {
   "cell_type": "code",
   "execution_count": null,
   "metadata": {},
   "outputs": [],
   "source": []
  }
 ],
 "metadata": {
  "kernelspec": {
   "display_name": "Python 3",
   "language": "python",
   "name": "python3"
  },
  "language_info": {
   "codemirror_mode": {
    "name": "ipython",
    "version": 3
   },
   "file_extension": ".py",
   "mimetype": "text/x-python",
   "name": "python",
   "nbconvert_exporter": "python",
   "pygments_lexer": "ipython3",
   "version": "3.7.1"
  }
 },
 "nbformat": 4,
 "nbformat_minor": 2
}
